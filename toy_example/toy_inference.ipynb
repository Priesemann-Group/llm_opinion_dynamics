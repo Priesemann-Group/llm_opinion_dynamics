{
 "cells": [
  {
   "cell_type": "code",
   "execution_count": null,
   "id": "ed08dbf2",
   "metadata": {},
   "outputs": [],
   "source": [
    "import pymc as pm\n",
    "import numpy as np\n",
    "import pandas as pd\n",
    "import arviz as az\n",
    "import matplotlib.pyplot as plt"
   ]
  },
  {
   "cell_type": "code",
   "execution_count": null,
   "id": "13d0d304",
   "metadata": {},
   "outputs": [],
   "source": [
    "df = pd.read_csv('toy_data.csv') # or exchange with your generated data 'your_data.csv'\n",
    "\n",
    "# Shift time, starting from 1, add terms relevant for the model\n",
    "df.loc[:, \"t\"] = df.loc[:, \"t\"]+1\n",
    "df[\"is_discussion\"] = (df[\"t\"] != 1).astype(int)\n",
    "df[\"is_responder\"] = (df[\"is_initiator\"] != 1).astype(int)\n",
    "\n",
    "# Add x_0 column for anchoring effect\n",
    "for i in range(len(df)):\n",
    "    if df.loc[i, \"t\"] == 1:\n",
    "        df.loc[i, \"x_0\"] = df.loc[i, \"x_j\"]\n",
    "\n",
    "    else:\n",
    "        df.loc[i, \"x_0\"] = df.loc[i-2, \"x_0\"]"
   ]
  },
  {
   "cell_type": "code",
   "execution_count": null,
   "id": "7ab78ef6",
   "metadata": {},
   "outputs": [],
   "source": [
    "# Prepare data for model fitting\n",
    "delta_x = df['dx'].to_numpy()\n",
    "\n",
    "x_i = df['x_i'].to_numpy()\n",
    "H_i = df[\"H_i\"].to_numpy()\n",
    "x_j = df['x_j'].to_numpy()\n",
    "H_j = df['H_j'].to_numpy()\n",
    "\n",
    "t_data = df['t'].to_numpy()\n",
    "d_data = df['delta'].to_numpy()\n",
    "\n",
    "is_initiator = df['is_initiator'].to_numpy()\n",
    "is_responder = df['is_responder'].to_numpy()\n",
    "\n",
    "x_0 = df['x_0'].to_numpy()\n",
    "is_discussion = df['is_discussion'].to_numpy()"
   ]
  },
  {
   "cell_type": "code",
   "execution_count": null,
   "id": "35a5edbb",
   "metadata": {},
   "outputs": [],
   "source": [
    "##### Full model  #####"
   ]
  },
  {
   "cell_type": "code",
   "execution_count": null,
   "id": "02483e6a",
   "metadata": {},
   "outputs": [],
   "source": [
    "with pm.Model() as full_model:\n",
    "    alpha = pm.Normal(\"alpha\", sigma=1.0)\n",
    "    tau = pm.HalfNormal(\"tau\", sigma=1.0)\n",
    "\n",
    "    beta_t = pm.HalfNormal(\"beta_t\", sigma=1)    \n",
    "    #beta_t = pm.Deterministic(\"beta_t\", beta +0.01) \n",
    "    b_t = pm.Uniform(\"b_t\", lower=-2, upper=2)\n",
    "\n",
    "\n",
    "    beta_a = pm.HalfNormal(\"beta_a\", sigma=1.0)\n",
    "    a = pm.Uniform(\"a\", lower=-2, upper=2)\n",
    "\n",
    "    beta_c = pm.Normal(\"beta_c\", sigma=1)\n",
    "    \n",
    "    sigma0 = pm.HalfNormal(\"sigma0\", sigma=1)\n",
    "    gamma = pm.HalfNormal(\"gamma\", sigma=1)\n",
    "    eps = pm.HalfNormal(\"eps\", sigma=1)\n",
    "    \n",
    "    # Interaction term\n",
    "    interaction = alpha * pm.math.exp(-t_data / tau )\n",
    "\n",
    "    # Mean opinion shift\n",
    "    mu = interaction * ( x_j - x_i  )  + beta_t * (d_data * b_t - x_i) + beta_a * (a - x_i) + beta_c * (x_0 - x_i) * is_responder\n",
    "    \n",
    "    # Std term\n",
    "    sigma = sigma0 + gamma * mu**2 + eps * H_i * is_discussion\n",
    "    \n",
    "    # Likelihood\n",
    "    y_obs = pm.Normal(\"y_obs\", mu=mu, sigma=sigma, observed=delta_x)\n",
    "    \n",
    "    # Posterior sampling\n",
    "    trace = pm.sample(2000, tune=1000, target_accept=0.9, random_seed=42, nuts_sampler='nutpie') \n",
    "\n",
    "# Save trace\n",
    "az.to_netcdf(trace, f\"traces/full_model_trace_gpt.nc\")"
   ]
  },
  {
   "cell_type": "code",
   "execution_count": null,
   "id": "7db4ebfc",
   "metadata": {},
   "outputs": [],
   "source": [
    "# alpha: interaction strength, tau: time decay, beta_t: topic bias strength, b_t: topic bias attractor, beta_a: agreement bias strength, a: agreement bias attractor, beta_c: anchor bias strength\n",
    "\n",
    "pm.summary(trace, var_names=[\"alpha\", \"tau\", \"beta_t\", \"b_t\", \"beta_a\", \"a\", \"beta_c\", \"sigma0\", \"gamma\", \"eps\"])"
   ]
  },
  {
   "cell_type": "code",
   "execution_count": null,
   "id": "014c29bb",
   "metadata": {},
   "outputs": [],
   "source": [
    "##### Model without interaction term  #####"
   ]
  },
  {
   "cell_type": "code",
   "execution_count": null,
   "id": "0e419fd2",
   "metadata": {},
   "outputs": [],
   "source": [
    "with pm.Model() as model_no_interaction:\n",
    "    #alpha = pm.Normal(\"alpha\", sigma=1.0)\n",
    "    #tau = pm.HalfNormal(\"tau\", sigma=1.0)\n",
    "\n",
    "    beta_t = pm.HalfNormal(\"beta_t\", sigma=1)    \n",
    "    b_t = pm.Uniform(\"b_t\", lower=-2, upper=2)\n",
    "\n",
    "\n",
    "    beta_a = pm.HalfNormal(\"beta_a\", sigma=1.0)\n",
    "    a = pm.Uniform(\"a\", lower=-2, upper=2)\n",
    "\n",
    "    beta_c = pm.Normal(\"beta_c\", sigma=1)\n",
    "    \n",
    "    sigma0 = pm.HalfNormal(\"sigma0\", sigma=1)\n",
    "    gamma = pm.HalfNormal(\"gamma\", sigma=1)\n",
    "    eps = pm.HalfNormal(\"eps\", sigma=1)\n",
    "    \n",
    "    # Interaction term\n",
    "    #interaction = alpha * pm.math.exp(-t_data / tau)\n",
    "\n",
    "    # Mean opinion shift\n",
    "    mu = beta_t * (d_data * b_t - x_i) + beta_a * (a - x_i) + beta_c * (x_0 - x_i) * is_responder\n",
    "    \n",
    "    # Std term\n",
    "    sigma = sigma0 + gamma * mu**2 + eps * H_i * is_discussion\n",
    "    \n",
    "    # Likelihood\n",
    "    y_obs = pm.Normal(\"y_obs\", mu=mu, sigma=sigma, observed=delta_x)\n",
    "    \n",
    "    # Posterior sampling\n",
    "    trace_2 = pm.sample(2000, tune=1000, target_accept=0.9, random_seed=42, nuts_sampler='nutpie')\n",
    "\n",
    "# Save trace\n",
    "az.to_netcdf(trace_2, f\"traces/model_no_int_trace_gpt.nc\")"
   ]
  },
  {
   "cell_type": "code",
   "execution_count": null,
   "id": "0f6a5717",
   "metadata": {},
   "outputs": [],
   "source": [
    "# beta_t: topic bias strength, b_t: topic bias attractor, beta_a: agreement bias strength, a: agreement bias attractor, beta_c: anchor bias strength\n",
    "\n",
    "pm.summary(trace_2, var_names=[\"beta_t\", \"b_t\", \"beta_a\", \"a\", \"beta_c\", \"sigma0\", \"gamma\", \"eps\"])"
   ]
  },
  {
   "cell_type": "code",
   "execution_count": null,
   "id": "b9f64061",
   "metadata": {},
   "outputs": [],
   "source": [
    "# Compare models\n",
    "\n",
    "# Calculate log likelihoods\n",
    "\n",
    "with full_model:\n",
    "    pm.compute_log_likelihood(trace)\n",
    "\n",
    "with model_no_interaction:\n",
    "    pm.compute_log_likelihood(trace_2)\n",
    "\n",
    "df_comp = az.compare({\"full_model\": trace, \"no interaction\": trace_2})\n",
    "az.plot_compare(df_comp, figsize=(4,3))"
   ]
  },
  {
   "cell_type": "code",
   "execution_count": null,
   "id": "fd5c601c",
   "metadata": {},
   "outputs": [],
   "source": [
    "# Check pareto k diagnostics - should be < 0.7 for > 99% of data points\n",
    "\n",
    "az.loo(trace, pointwise=True)"
   ]
  },
  {
   "cell_type": "code",
   "execution_count": null,
   "id": "d07c539f",
   "metadata": {},
   "outputs": [],
   "source": [
    "az.loo(trace_2, pointwise=True)"
   ]
  }
 ],
 "metadata": {
  "kernelspec": {
   "display_name": "minimal-env",
   "language": "python",
   "name": "python3"
  },
  "language_info": {
   "codemirror_mode": {
    "name": "ipython",
    "version": 3
   },
   "file_extension": ".py",
   "mimetype": "text/x-python",
   "name": "python",
   "nbconvert_exporter": "python",
   "pygments_lexer": "ipython3",
   "version": "3.11.13"
  }
 },
 "nbformat": 4,
 "nbformat_minor": 5
}
